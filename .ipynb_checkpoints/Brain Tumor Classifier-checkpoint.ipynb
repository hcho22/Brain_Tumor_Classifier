{
 "cells": [
  {
   "cell_type": "markdown",
   "id": "fa28f0ac",
   "metadata": {},
   "source": [
    "# Brain Tumor Classifier\n",
    " "
   ]
  },
  {
   "cell_type": "markdown",
   "id": "aeec0e15",
   "metadata": {},
   "source": [
    "Brain tumor classifier - education purposes only "
   ]
  },
  {
   "cell_type": "code",
   "execution_count": 1,
   "id": "619781b0",
   "metadata": {},
   "outputs": [],
   "source": [
    "from fastai.vision.all import *\n",
    "from fastai.vision.widgets import *"
   ]
  },
  {
   "cell_type": "code",
   "execution_count": 2,
   "id": "c027e941",
   "metadata": {},
   "outputs": [],
   "source": [
    "path = Path()"
   ]
  },
  {
   "cell_type": "code",
   "execution_count": 4,
   "id": "42ed210e",
   "metadata": {},
   "outputs": [],
   "source": [
    "learn_inf = load_learner(path/'braintumor_062821.pkl', cpu=True)"
   ]
  },
  {
   "cell_type": "code",
   "execution_count": 5,
   "id": "185a8175",
   "metadata": {},
   "outputs": [],
   "source": [
    "btn_upload = widgets.FileUpload()\n",
    "out_pl = widgets.Output()\n",
    "lbl_pred = widgets.Label()"
   ]
  },
  {
   "cell_type": "code",
   "execution_count": null,
   "id": "cdcd14d3",
   "metadata": {},
   "outputs": [],
   "source": []
  }
 ],
 "metadata": {
  "kernelspec": {
   "display_name": "Python 3",
   "language": "python",
   "name": "python3"
  },
  "language_info": {
   "codemirror_mode": {
    "name": "ipython",
    "version": 3
   },
   "file_extension": ".py",
   "mimetype": "text/x-python",
   "name": "python",
   "nbconvert_exporter": "python",
   "pygments_lexer": "ipython3",
   "version": "3.7.10"
  }
 },
 "nbformat": 4,
 "nbformat_minor": 5
}
